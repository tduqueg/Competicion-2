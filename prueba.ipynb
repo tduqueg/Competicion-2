{
 "cells": [
  {
   "cell_type": "code",
   "execution_count": 3,
   "metadata": {},
   "outputs": [
    {
     "name": "stdout",
     "output_type": "stream",
     "text": [
      "Se detectó 1 GPU(s). ¡Excelente, Papi!\n"
     ]
    },
    {
     "data": {
      "text/html": [
       "<div>\n",
       "<style scoped>\n",
       "    .dataframe tbody tr th:only-of-type {\n",
       "        vertical-align: middle;\n",
       "    }\n",
       "\n",
       "    .dataframe tbody tr th {\n",
       "        vertical-align: top;\n",
       "    }\n",
       "\n",
       "    .dataframe thead th {\n",
       "        text-align: right;\n",
       "    }\n",
       "</style>\n",
       "<table border=\"1\" class=\"dataframe\">\n",
       "  <thead>\n",
       "    <tr style=\"text-align: right;\">\n",
       "      <th></th>\n",
       "      <th>File</th>\n",
       "      <th>Encoded_Label</th>\n",
       "    </tr>\n",
       "  </thead>\n",
       "  <tbody>\n",
       "    <tr>\n",
       "      <th>0</th>\n",
       "      <td>n02437312/images/n02437312_229.JPEG</td>\n",
       "      <td>53</td>\n",
       "    </tr>\n",
       "    <tr>\n",
       "      <th>1</th>\n",
       "      <td>n02437312/images/n02437312_394.JPEG</td>\n",
       "      <td>53</td>\n",
       "    </tr>\n",
       "    <tr>\n",
       "      <th>2</th>\n",
       "      <td>n02437312/images/n02437312_15.JPEG</td>\n",
       "      <td>53</td>\n",
       "    </tr>\n",
       "    <tr>\n",
       "      <th>3</th>\n",
       "      <td>n02437312/images/n02437312_62.JPEG</td>\n",
       "      <td>53</td>\n",
       "    </tr>\n",
       "    <tr>\n",
       "      <th>4</th>\n",
       "      <td>n02437312/images/n02437312_17.JPEG</td>\n",
       "      <td>53</td>\n",
       "    </tr>\n",
       "  </tbody>\n",
       "</table>\n",
       "</div>"
      ],
      "text/plain": [
       "                                  File  Encoded_Label\n",
       "0  n02437312/images/n02437312_229.JPEG             53\n",
       "1  n02437312/images/n02437312_394.JPEG             53\n",
       "2   n02437312/images/n02437312_15.JPEG             53\n",
       "3   n02437312/images/n02437312_62.JPEG             53\n",
       "4   n02437312/images/n02437312_17.JPEG             53"
      ]
     },
     "execution_count": 3,
     "metadata": {},
     "output_type": "execute_result"
    }
   ],
   "source": [
    "import os\n",
    "import pandas as pd\n",
    "import numpy as np\n",
    "import tensorflow as tf\n",
    "from tensorflow.keras.preprocessing.image import ImageDataGenerator\n",
    "from tensorflow.keras.models import Model\n",
    "from tensorflow.keras.layers import Dense, GlobalAveragePooling2D\n",
    "from tensorflow.keras.callbacks import EarlyStopping, ReduceLROnPlateau, ModelCheckpoint\n",
    "from tensorflow.keras.applications import EfficientNetB0\n",
    "from tensorflow.keras.applications.efficientnet import preprocess_input\n",
    "\n",
    "\n",
    "# ============================================================================\n",
    "# 0. Configuración para Mac con TensorFlow-MacOS y TensorFlow-Metal\n",
    "# ============================================================================\n",
    "# Configuración de GPU \n",
    "try:\n",
    "    gpus = tf.config.list_physical_devices('GPU')\n",
    "    if gpus:\n",
    "        print(f\"Se detectó {len(gpus)} GPU(s). ¡Excelente, Papi!\")\n",
    "        for gpu in gpus:\n",
    "            # Activa el crecimiento de la memoria en GPU\n",
    "            tf.config.experimental.set_memory_growth(gpu, True)\n",
    "    else:\n",
    "        print(\"No se detectó GPU. Verifica que estés usando 'tensorflow-macos' y 'tensorflow-metal', Daddy.\")\n",
    "except Exception as e:\n",
    "    print(\"Error en la configuración de la GPU:\", e)\n",
    "# ============================================================================\n",
    "# 1. Lectura y preparación de datos\n",
    "# ============================================================================\n",
    "# Rutas locales a tus CSV y carpetas de imágenes\n",
    "TRAIN_IMG_DIR = \"./tiny-imagenet-200/train/\"\n",
    "VAL_IMG_DIR = \"./tiny-imagenet-200/val/images/\"\n",
    "TEST_IMG_DIR = \"./tiny-imagenet-200/test/images/\"\n",
    "\n",
    "# Rutas a los CSV\n",
    "TRAIN_CSV_PATH = \"./train_data.csv\"\n",
    "VAL_CSV_PATH = \"./val_data.csv\"\n",
    "TEST_CSV_PATH = \"./test_data.csv\"\n",
    "\n",
    "# Lee los CSV\n",
    "train_df = pd.read_csv(TRAIN_CSV_PATH)\n",
    "val_df = pd.read_csv(VAL_CSV_PATH)\n",
    "test_df = pd.read_csv(TEST_CSV_PATH)\n",
    "#Ajuste en el path de train_df\n",
    "train_df['File'] = train_df['File'].str.replace('/kaggle/input/tiny-imagenet/tiny-imagenet-200/train/', '')\n",
    "train_df.head()"
   ]
  },
  {
   "cell_type": "code",
   "execution_count": 4,
   "metadata": {},
   "outputs": [],
   "source": [
    "# ============================================================================\n",
    "# 2. Data Augmentation\n",
    "# ============================================================================\n",
    "train_datagen = ImageDataGenerator(\n",
    "    preprocessing_function=preprocess_input,\n",
    "    rotation_range=20,\n",
    "    width_shift_range=0.2,\n",
    "    height_shift_range=0.2,\n",
    "    shear_range=0.2,\n",
    "    zoom_range=0.2,\n",
    "    horizontal_flip=True,\n",
    "    fill_mode='nearest'\n",
    ")\n",
    "\n",
    "val_datagen = ImageDataGenerator(\n",
    "    preprocessing_function=preprocess_input\n",
    ")"
   ]
  },
  {
   "cell_type": "code",
   "execution_count": null,
   "metadata": {},
   "outputs": [
    {
     "name": "stdout",
     "output_type": "stream",
     "text": [
      "Found 0 validated image filenames belonging to 0 classes.\n",
      "Found 0 validated image filenames belonging to 0 classes.\n",
      "Found 0 validated image filenames.\n"
     ]
    },
    {
     "name": "stderr",
     "output_type": "stream",
     "text": [
      "/Users/tomasduque21/Documents/Tomás/Maestria /Aprendizaje Automatico/Competicion 2/ven/lib/python3.9/site-packages/keras/src/legacy/preprocessing/image.py:920: UserWarning: Found 100000 invalid image filename(s) in x_col=\"File\". These filename(s) will be ignored.\n",
      "  warnings.warn(\n",
      "/Users/tomasduque21/Documents/Tomás/Maestria /Aprendizaje Automatico/Competicion 2/ven/lib/python3.9/site-packages/keras/src/legacy/preprocessing/image.py:920: UserWarning: Found 6000 invalid image filename(s) in x_col=\"File\". These filename(s) will be ignored.\n",
      "  warnings.warn(\n",
      "/Users/tomasduque21/Documents/Tomás/Maestria /Aprendizaje Automatico/Competicion 2/ven/lib/python3.9/site-packages/keras/src/legacy/preprocessing/image.py:920: UserWarning: Found 4000 invalid image filename(s) in x_col=\"File\". These filename(s) will be ignored.\n",
      "  warnings.warn(\n"
     ]
    }
   ],
   "source": [
    "train_df['Encoded_Label'] = train_df['Encoded_Label'].astype(str)\n",
    "val_df['Encoded_Label'] = val_df['Encoded_Label'].astype(str)\n",
    "train_generator = train_datagen.flow_from_dataframe(\n",
    "    dataframe=train_df,\n",
    "    x_col='File',\n",
    "    y_col='Encoded_Label',\n",
    "    target_size=(64, 64),\n",
    "    class_mode='categorical',\n",
    "    batch_size=64,\n",
    "    shuffle=True\n",
    ")\n",
    "\n",
    "val_generator = val_datagen.flow_from_dataframe(\n",
    "    dataframe=val_df,\n",
    "    x_col='File',\n",
    "    y_col='Encoded_Label',\n",
    "    target_size=(64, 64),\n",
    "    class_mode='categorical',\n",
    "    batch_size=64,\n",
    "    shuffle=False\n",
    ")\n",
    "\n",
    "test_generator = val_datagen.flow_from_dataframe(\n",
    "    dataframe=test_df,\n",
    "    x_col='File',\n",
    "    y_col=None,\n",
    "    target_size=(64, 64),\n",
    "    class_mode=None,\n",
    "    batch_size=64,\n",
    "    shuffle=False\n",
    ")"
   ]
  }
 ],
 "metadata": {
  "kernelspec": {
   "display_name": "ven",
   "language": "python",
   "name": "python3"
  },
  "language_info": {
   "codemirror_mode": {
    "name": "ipython",
    "version": 3
   },
   "file_extension": ".py",
   "mimetype": "text/x-python",
   "name": "python",
   "nbconvert_exporter": "python",
   "pygments_lexer": "ipython3",
   "version": "3.9.6"
  }
 },
 "nbformat": 4,
 "nbformat_minor": 2
}
